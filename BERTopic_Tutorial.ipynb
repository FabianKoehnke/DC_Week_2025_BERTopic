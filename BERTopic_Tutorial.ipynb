{
 "cells": [
  {
   "attachments": {},
   "cell_type": "markdown",
   "metadata": {},
   "source": [
    "# BERTopic Tutorial\n",
    "\n",
    "This tutorial is a compilation of the BERTopic documetation, the corresponding paper, the SBERT documentation and own code to give an introduction to topic modeling with BERTopic. This should enable you to carry out practical experiments with your own data. 🚀\n",
    "\n",
    "## Introduction\n",
    "\n",
    "BERTopic leverages 🤗 transformers and c-TF-IDF to create dense clusters allowing for easily interpretable topics whilst keeping important words in the topic descriptions.\n",
    "\n",
    "We can use topic modeling, e.g., for:\n",
    "\n",
    "- Clustering : Grouping related papers based on their topics\n",
    "- Automatic Summarization : Extracting main topics from a vast number of papers\n",
    "- Research Gap Identification : Detecting underexplored areas by analyzing topic distributions\n",
    "- Interdisciplinary Studies : Finding connections between different research domains\n",
    "- Recommendation Systems – Suggesting relevant papers based on topic similarities\n",
    "\n",
    "## Main Representation of the Algotihm \n",
    "\n",
    "Step 1. Embedding  \n",
    "Step 2. Dimensionality Reduction  \n",
    "Step 3. Clustering  \n",
    "Step 4. Tokenizer  \n",
    "Step 5. Weighting scheme  \n",
    "\n",
    "NOTE: All steps are independent and modulare. E.g., you so can use a variety of clustering models (k-Means, HDBSCAN...)\n",
    "\n",
    "### 1. Embedding \n",
    "\n",
    "Embedding refers to the process of converting high-dimensional data (like words) into a lower-dimensional, dense numerical representation. These representations (vectors), capture meaningful relationships between entities, making it easier for AI models to understand and process data efficiently.\n",
    "\n",
    "With BERTopic and Sentence Transformers we try to capture the meaning of whole sentences or documents. According to the documentation, sentences or entire documents can be used for embedding. We can use multiple pre-trained sentence-transformers. Here is a list:\n",
    "\n",
    "https://www.sbert.net/docs/sentence_transformer/pretrained_models.html\n",
    "\n",
    "<div style=\"border: 1px solid white; padding: 10px;\">\n",
    "DEGRESSION - Transformers:\n",
    "\n",
    "A Transformer is a deep learning architecture introduced in the paper \"Attention Is All You Need\" by Vaswani et al. (2017). It revolutionized natural language processing (NLP) by replacing older models like RNNs and LSTMs with a more efficient mechanism: self-attention.\n",
    "\n",
    "Self-Attention Mechanism\n",
    "- Each word (or token) in a sentence attends to all other words, learning contextual relationships dynamically.  \n",
    "\n",
    "Positional Encoding\n",
    "- Since Transformers don’t process words sequentially like RNNs, they need a way to understand the order of words.\n",
    "- Positional encoding adds information about word order to the embeddings.  \n",
    "\n",
    "Multi-Head Attention\n",
    "- Instead of just one self-attention mechanism, multiple attention heads allow the model to focus on different parts of a sentence simultaneously.\n",
    "</div>\n",
    "\n",
    "The embedding are primarily used to cluster semantically similar documents and not directly used in generating the topics...\n",
    "\n",
    "### 2. Dimensionality Reduction \n",
    "\n",
    "After having created our numerical representations of the documents we have to reduce the dimensionality of these representations. Cluster models typically have difficulty handling high dimensional data due to the curse of dimensionality. There are great approaches that can reduce dimensionality, such as PCA, but as a default UMAP is selected in BERTopic. It is a technique that can keep some of a dataset's local and global structure when reducing its dimensionality. This structure is important to keep as it contains the information necessary to create clusters of semantically similar documents.\n",
    "\n",
    "### 3. Cluster Documents\n",
    "\n",
    "After having reduced our embeddings, we can start clustering our data. For that, we leverage a density-based clustering technique, HDBSCAN. It can find clusters of different shapes and has the nice feature of identifying outliers where possible. As a result, we do not force documents into a cluster where they might not belong. This will improve the resulting topic representation as there is less noise to draw from.\n",
    "\n",
    "NOTE: Paper of HDBSCAN: Leland McInnes, John Healy, and Steve Astels. 2017. hdbscan: Hierarchical density based clustering. The Journal of Open Source Software, 2(11):205.\n",
    "\n",
    "<div style=\"border: 1px solid white; padding: 10px;\">\n",
    "DEGRESSION - HDBSCAN (Hierarchical Density-Based Spatial Clustering of Applications with Noise):\n",
    "\n",
    "It works in four main steps:\n",
    "\n",
    "1. Construct Mutual Reachability Graph – This distance metric considers both the core distance (the distance to the k-th nearest neighbor) and the mutual reachability distance between points.\n",
    "2. Generate Minimum Spanning Tree (MST) – Builds a MST from the distance graph, capturing cluster connectivity.\n",
    "3. Hierarchical Clustering – Forms a hierarchy by progressively removing longest edges in the MST.\n",
    "4. Condense and Extract Stable Clusters – instead of manually selecting a clustering level, HDBSCAN automatically determines the most stable clusters by analyzing the persistence of clusters in the hierarchy. Clusters that persist across different levels of granularity are considered meaningful.\n",
    "5. Identifying Noise - HDBSCAN automatically classifies outliers as noise when they do not belong to any stable cluster.\n",
    "\n",
    "</div>\n",
    "\n",
    "### 4. Tokenizer \n",
    "\n",
    "We want a topic representation technique that makes little to no assumption on the expected structure of the clusters. To do this, we first combine all documents in a cluster into a single document. That, very long, document then represents the cluster. Then, we can count how often each word appears in each cluster This generates something called a bag-of-words representation in which the frequency of each word in each cluster can be found. This bag-of-words representation is therefore on a cluster level and not on a document level. This distinction is important as we are interested in words on a topic level (i.e., cluster level). By using a bag-of-words representation, no assumption is made concerning the structure of the clusters. \n",
    "\n",
    "NOTE: detailed informations here: https://scikit-learn.org/stable/modules/feature_extraction.html#text-feature-extraction\n",
    "\n",
    "### 5. Weighting scheme  \n",
    "\n",
    "From the generated bag-of-words representation, we want to know what makes one cluster different from another. Which words are typical for cluster 1 and not so much for all other clusters? \n",
    "\n",
    "The topic representations are modeled based on the documents in each cluster where each cluster will\n",
    "be assigned one topic. For each topic, we want to know what makes one topic, based on its cluster-\n",
    "word distribution, different from another? For this purpose, we can modify TF-IDF (Term Frequency-Inverse Document Frequency), a measure for representing the importance of a word to a document, such that it allows for a representation of a term’s importance to a topic instead.\n",
    "\n",
    "The classic TF-IDF procedure combines two statistics, term frequency, and inverse document\n",
    "frequency: \n",
    "\n",
    "$$\n",
    "W_{t,d}=tf_{t,d} \\cdot log(\\frac{N}{df_t})\n",
    "$$\n",
    "\n",
    "Where the term frequency models the frequency of term $t$ in document $d$. The inverse document frequency measures how much information a term provides to a document and is calculated by taking the logarithm of the number of documents in a corpus $N$ divided by the total number of documents that contain $t$.\n",
    "\n",
    "We generalize this procedure to clusters of documents: \n",
    "\n",
    "$$\n",
    "W_{t,c}=tf_{t,c} \\cdot log(1+\\frac{A}{tf_t})\n",
    "$$\n",
    "\n",
    "Where the term frequency models the frequency of term $t$ in a class $c$ or in this instance. Here, the class $c$ is the collection of documents concatenated into a single document for each cluster. Then, the inverse document frequency is replaced by the inverse class frequency to measure how much information a term provides to a class. It is calculated by taking the logarithm of the average number of words per class $A$ divided by the frequency of term $t$ across all classes. To output only positive values, we add one to the division within the logarithm. Thus, this class-based TF-IDF procedure models the importance of words in clusters instead of individual documents. This allows us to generate topic-word distributions for each cluster of documents.\n",
    "\n",
    "In other words, if we extract the most important words per cluster, we get descriptions of topics!\n",
    "\n",
    "### Further Informations \n",
    "\n",
    "- Paper : https://arxiv.org/abs/2203.05794\n",
    "- Project Homepage : https://maartengr.github.io/BERTopic/index.html"
   ]
  },
  {
   "attachments": {},
   "cell_type": "markdown",
   "metadata": {},
   "source": [
    "## Task"
   ]
  },
  {
   "attachments": {},
   "cell_type": "markdown",
   "metadata": {},
   "source": [
    "We want to ... TODO"
   ]
  },
  {
   "attachments": {},
   "cell_type": "markdown",
   "metadata": {},
   "source": [
    "# Installation"
   ]
  },
  {
   "cell_type": "code",
   "execution_count": null,
   "metadata": {},
   "outputs": [],
   "source": [
    "%%capture\n",
    "!pip install bertopic\n",
    "!pip install datasets\n",
    "!pip isntall PyPDF2\n",
    "!pip install scikit-learn\n"
   ]
  },
  {
   "attachments": {},
   "cell_type": "markdown",
   "metadata": {},
   "source": [
    "HINT: We pobably need to restart the notebook after the installations"
   ]
  },
  {
   "attachments": {},
   "cell_type": "markdown",
   "metadata": {},
   "source": [
    "## Loading Packages"
   ]
  },
  {
   "cell_type": "code",
   "execution_count": 54,
   "metadata": {},
   "outputs": [],
   "source": [
    "import bertopic as bt\n",
    "from sklearn.feature_extraction.text import CountVectorizer\n",
    "from hdbscan import HDBSCAN\n",
    "from datasets import load_dataset\n",
    "from PyPDF2 import PdfReader\n",
    "import os \n",
    "from umap import UMAP"
   ]
  },
  {
   "attachments": {},
   "cell_type": "markdown",
   "metadata": {},
   "source": [
    "## Loading Data"
   ]
  },
  {
   "cell_type": "code",
   "execution_count": 71,
   "metadata": {},
   "outputs": [
    {
     "name": "stdout",
     "output_type": "stream",
     "text": [
      "file is not a pdf\n"
     ]
    },
    {
     "name": "stderr",
     "output_type": "stream",
     "text": [
      "unknown widths : \n",
      "[0, IndirectObject(17, 0, 5701894480)]\n",
      "unknown widths : \n",
      "[0, IndirectObject(131, 0, 5701894480)]\n",
      "unknown widths : \n",
      "[0, IndirectObject(162, 0, 5701894480)]\n",
      "unknown widths : \n",
      "[0, IndirectObject(47, 0, 5701894480)]\n",
      "unknown widths : \n",
      "[0, IndirectObject(133, 0, 5701894480)]\n",
      "unknown widths : \n",
      "[0, IndirectObject(15, 0, 5701894480)]\n"
     ]
    },
    {
     "name": "stdout",
     "output_type": "stream",
     "text": [
      "file is not a pdf\n",
      "file is not a pdf\n"
     ]
    }
   ],
   "source": [
    "#data = load_dataset(\"newsgroup\", '18828_alt.atheism')[\"train\"][\"text\"]\n",
    "def extract_text_from_pdf(pdf_path):\n",
    "    reader = PdfReader(pdf_path)\n",
    "    #text = \"\\n\".join([page.extract_text() for page in reader.pages if page.extract_text()])\n",
    "    text = reader.pages[0].extract_text()\n",
    "\n",
    "    return text\n",
    "\n",
    "data = []\n",
    "path_data = \"/Users/Fabian/Documents/DataScience/Phd/Disertation/Research/Paper/\" # TODO change to your path\n",
    "\n",
    "for pdf in os.listdir(path_data):\n",
    "    if pdf[-3:] == \"pdf\":\n",
    "        pdf_text = extract_text_from_pdf(path_data + pdf)\n",
    "        data.append(pdf_text)\n",
    "    else:\n",
    "        print(\"file is not a pdf\")\n"
   ]
  },
  {
   "cell_type": "code",
   "execution_count": 72,
   "metadata": {},
   "outputs": [
    {
     "data": {
      "text/plain": [
       "['Expert Systems With Applications  133 (2019) 225–241  \\nContents  lists available  at ScienceDirect  \\nExpert  Systems  With  Applications  \\njournal  homepage:  www.elsevier.com/locate/eswa  \\nA multi-objective  evolutionary  algorithm  for a class  of mean-variance  \\nportfolio  selection  problems  \\nYuri Laio T.V. Silva a , c , Ana Beatriz  Herthel  a , Anand  Subramanian  b , ∗\\na Universidade  Federal da Paraíba, Departamento  de Engenharia  de Produção,  Centro de Tecnologia,  Campus I, Cidade Universitária,  João Pessoa-PB,  CEP \\n58059-900,  Brazil \\nb Universidade  Federal da Paraíba, Departamento  de Sistemas de Computação,  Centro de Informática,  Mangabeira,  Rua dos Escoteiros  s/n, João Pessoa, CEP \\n58055-0 0 0, Brazil \\nc Centro Universitário  de João Pessoa, BR 230, 22, Água Fria João Pessoa-PB,  CEP 58053-0 0 0, Brazil \\na r t i c l e i n f o \\nArticle history: \\nReceived  27 February  2019 \\nRevised 21 April 2019 \\nAccepted  14 May 2019 \\nAvailable  online 15 May 2019 \\nKeywords:  \\nPortfolio  selection  problem \\nMean-variance  \\nMulti-objective  optimization  \\nParticle swarm optimization  \\nUniﬁed algorithm  a b s t r a c t \\nThe portfolio  selection  problem  (PSP) concerns  the resource  allocation  to a ﬁnite number  of assets. In its \\nclassic approach,  the problem  aims at overcoming  a trade-off between  the risk and expected  return of the \\nportfolio.  In recent years, additional  constraints  identiﬁed  in ﬁnancial  markets  have been incorporated  \\ninto the literature,  as an attempt  to close the gap between  theory and practice.  In view of this, this \\npaper introduces  a uniﬁed multi-objective  particle  swarm optimization  approach  capable  of solving a \\nclass of mean-variance  PSPs. An adaptive  ranking  procedure  is also developed,  which is based on three \\nmechanisms,  including  a new one. Extensive  computational  experiments  were carried out in ﬁve PSP \\nvariants  and the results obtained  were compared  with those found by problem-speciﬁc  methods  from \\nthe literature.  The proposed  approach  was capable  of ﬁnding highly competitive  results in all problems  \\nand in most of the multi-objective  metrics considered.  \\n©2 0 1 9 Elsevier  Ltd. All rights reserved.  \\n1. Introduction  \\nThe portfolio  selection  problem  (PSP) concerns  the resource  al- \\nlocation  to a ﬁnite number  of assets. It is currently  one of the most \\nimportant  topics regarding  economical  and ﬁnancial  issues. Due to \\nthe existing  trade-off between  investments  risks and returns,  the \\nmain purpose  of the portfolio  selection  is to decide in which as- \\nsets to invest and in which proportions  to do so, considering  the \\namount  of capital available.  \\nDifferent  returns  are associated  with various  risk levels and an \\ninvestor’s  risk acceptance  is changeable.  It can be inﬂuenced  by so- \\ncial status, age or future prospects,  therefore,  there is not a com- \\nmon portfolio  suitable  to all investors  ( Skolpadungket,  Dahal, & \\nHarnpornchai,  2007 ). In light of that, optimization  presents  itself \\nas a tool to increase  investors  proﬁtability,  helping  in the decision-  \\nmaking  process  as it takes into account  their investment  goals. \\nOne of the ﬁrst operations  research-based  approaches  proposed  \\nfor the PSP was the one by Markowitz  (1952) , and it was denoted  \\nas mean-variance.  The formulation  aims at maximizing  the re- \\nturn and minimizing  the risk of the portfolio.  This model can also \\n∗Corresponding  author. \\nE-mail addresses:  yuri.laio@unipe.edu.br  (Y.L.T.V. Silva), abherthel@gmail.com  \\n(A.B. Herthel),  anand@ci.ufpb.br  (A. Subramanian).  be described  as a quadratic  programming  (QP) problem  (QPP), in \\nwhich the portfolio  risk is minimized  and the lowest return accept-  \\nable is represented  by means of a linear constraint.  Markowitz’s  \\nmean-variance  model was essential  for the dissemination  of the \\ninvestment  portfolio  optimization  problem  and its extensive  study- \\ning. \\nProblems  involving  two objectives  that cannot be simultane-  \\nously optimized  do not have a unique  optimal  solution.  There is, \\nin fact, a set of eﬃcient  solutions  which is usually  denoted  as ef- \\nﬁcient frontier,  or Pareto front. Branke,  Scheckenbach,  Stein, Deb, \\nand Schmeck  (2009) claim that the main motivation  in achieving  \\nan eﬃcient  frontier  is the importance  of obtaining  solutions  bear- \\ning different  trade-offs  according  to the optimization  mechanisms.  \\nThis allows for an optimal  solution  to be achieved,  maximizing  the \\nexpected  return, based on a certain  risk factor provided  by the in- \\nvestor. This frontier  is obtained  by solving  QPP for all risk and re- \\nturn trade-offs.  \\nSeveral  exact and heuristic  approaches  have been employed  to \\nsolve PSPs. Generally,  they aim at assessing  a large number  of pos- \\nsible combinations,  thus potentially  preventing  the problem  to be \\nsolved within an acceptable  CPU time ( Skolpadungket  et al., 2007 ). \\nThe issue might become  even more complex  when incorporating  \\nother constraints  such as ﬂoor, ceiling and cardinality  constraints,  \\ngiving rise to variants  that are known  to be N P -hard ( Moral- \\nEscudero,  Ruiz-Torrubiano,  & Suárez,  2006 ). \\nhttps://doi.org/10.1016/j.eswa.2019.05.018  \\n0957-4174/© 2019 Elsevier Ltd. All rights reserved.  ',\n",
       " '',\n",
       " 'A multi-objective genetic programming approach to developing\\nPareto optimal decision trees\\nHuimin Zhao⁎\\nSheldon B. Lubar School of Business, University of Wisconsin-Milwaukee, P . O. Box 742, Milwaukee, WI 53201, United States\\nReceived 1 March 2006; received in revised form 5 December 2006; accepted 15 December 2006\\nAvailable online 28 December 2006\\nAbstract\\nClassification is a frequently encountered data mining problem. Decision tree techniques have been widely used to build\\nclassification models as such models closely resemble human reasoning and are easy to understand. Many real-world classification\\nproblems are cost-sensitive, meaning that different types of misclassification errors are not equally costly. Since different decision\\ntrees may excel under different cost settings, a set of non-dominated decision trees should be developed and presented to thedecision maker for consideration, if the costs of different types of misclassification errors are not precisely determined. This paper\\nproposes a multi-objective genetic programming approach to developing such alternative Pareto optimal decision trees. It also\\nallows the decision maker to specify partial preferences on the conflicting objectives, such as false negative vs. false positive,sensitivity vs. specificity, and recall vs. precision, to further reduce the number of alternative solutions. A diabetes prediction\\nproblem and a credit card application approval problem are used to illustrate the application of the proposed approach.\\n© 2006 Elsevier B.V . All rights reserved.\\nKeywords: Data mining; Binary classification; Decision tree; Cost-sensitive classification; Genetic programming; Multi-objective optimization;\\nPareto optimality\\n1. Introduction\\nAs modern organizations can nowadays collect and\\nmaintain huge volumes of data, many of them havestarted to employ data mining techniques to mine their\\noperational data for interesting patterns and decision\\nmodels that could be used to support their decisionmaking. Classification is a frequently encounteredpredictive data mining problem where a categoricaldependent variable needs to be predicted based on a setof independent variables. Various classification techni-ques have been developed in such fields as multivariate\\nstatistical analysis, machine learning, and artificialneural networks [56,22] and applied to solve a variety\\nof classification problems, such as workplace Web usageprofiling [1], purchase behavior prediction [23], sales\\nprofile forecasting [52], deception detection [62], credit\\nevaluation [18,48] , bankruptcy prediction [45,51] , bank\\nfailure prevention [46], intrusion detection [28,63] , and\\nmedical diagnosis [33]. These classification techniques\\nautomatically induce prediction models, called classi-fiers, based on training examples with known outcomes.The trained classifiers can then be applied to predict theoutcomes of new problem instances in the future.\\nDecision tree techniques have been widely used in\\nbuilding classification models as such models closely\\nDecision Support Systems 43 (2007) 809 –826\\nwww.elsevier.com/locate/dss\\n⁎Tel.: +1 414 229 6524; fax: +1 414 229 5999.\\nE-mail address: hzhao@uwm.edu .\\n0167-9236/$ - see front matter © 2006 Elsevier B.V. All rights reserved.\\ndoi:10.1016/j.dss.2006.12.011',\n",
       " 'Variable Size Genetic Network Programming with\\nBinomial Distribution\\nBing Li, Xianneng Li, Shingo Mabu, Member , IEEE and Kotaro Hirasawa, Member , IEEE\\nGraduate School of Information, Production and Systems, Waseda University\\nFukuoka, Japan\\nTel: +81-93-692-5261;\\nE-mail: {libing, sennou}@asagi.waseda.jp, mabu@aoni.waseda.jp and hirasawa@waseda.jp\\nAbstract —This paper proposes a different type of Genetic\\nNetwork Programming (GNP) – Variable Size Genetic Network\\nProgramming (GNPvs) with Binomial Distribution. In contrastto the individuals with ﬁxed size in Standard GNP, GNPvs willchange the size of the individuals and obtain the optimal sizeof them during evolution. The proposed method deﬁnes a newtype of crossover to implement the new feature of GNP. The newcrossover will select the number of nodes to move from eachparent GNP to another parent GNP. The probability of selectingthe number of nodes to move satisﬁes the binomial probabilitydistribution. The proposed method can keep the effectiveness of\\ncrossover and improve the performance of GNP. In order to\\nverify the performance of the proposed method, a well-knownbenchmark problem – Tile-world is used in the simulations. Thesimulation results show the effectiveness of the proposed method.\\nIndex Terms —Genetic Network Programming, Variable size,\\nCrossover, Binomial probability distribution, Tile-world.\\nI. I NTRODUCTION\\nEvolutionary algorithm is an important research ﬁeld in ar-\\ntiﬁcial intelligence for solving optimal problems. For decades,\\na lot of research has been conducted on evolutionary al-\\ngorithms. There are two important evolutionary algorithmparadigms, i.e., Genetic Algorithm (GA) [1], [2], [3], and\\nGenetic Programming (GP) [4], [5], [6]. Each algorithm has its\\nown different structure, i.e., ”chromosome”. GA uses stringsto represent solution candidates for the problem, while GP\\ngenerates tree structures for evolving programs.\\nBesides the structure for representing the chromosome,\\nwhether the size of the chromosome is variable or not isanother factor that affects the performance of the evolutionary\\nalgorithm. At ﬁrst, most research on GA uses ﬁxed-lengthstrings, but variable-length strings are more close to nature,\\ni.e., the genotypes of lives evolved from simple to complex in\\nnature [3]. So, in [3], a messy genetic algorithm (mGA) was\\nproposed, which deﬁnes more messy strings and its operators\\npermit the algorithm to form and exploit higher-performancebuilding blocks than simple GA with ﬁxed length. Since the\\nchromosome in mGA is variable, simple crossover no longer\\nworks, then two simple operators: cut and splice are used toreplace crossover. Fig.1 shows the schema of cut and splice\\ncoordination in mGA. The cut operator divides the individuals\\ninto two parts and the splice operator joins the different partsfrom parents to generate new individuals. By combining both\\noperators, the parents can exchange the gene like crossover.As noted in [3], mGA works better than simple GA with ﬁxed\\ncoding.\\nFig. 1. Schema of cut and splice coordination in mGA\\nOn the other hand, GP is developed to evolve programs,\\ntherefore, GP has variable gene structures. As described in\\n[7], “GP now routinely delivers high-return human-competitive\\nmachine intelligence”. But, GP suffers from the bloatingproblem which affects the performance of the algorithm [8],\\n[9], [10]. Derived from GP, Gene Expression Programming\\n(GEP) [11], [12] and Grammatical Evolution (GE) [13], [14]\\nare proposed to generate programs automatically. Different\\nfrom GP, both methods introduce genotype-phenotype map-ping mechanism [15] to generate programs, by which ﬁxed\\nlength genes can be translated to variable length programs.\\nMoreover, both method can alleviate the bloating phenomenon[16], [17] and get better performance than GP.\\nInspired from them, Genetic Network Programming (GNP)\\n[18], [19] has been proposed to solve complicated problems.For example, GNP has been successfully applied to many\\nﬁelds such as elevator supervisory control systems [20], stock\\nmarket prediction [21], association rule mining [22], and trafﬁc\\nprediction[23]. GNP uses directed-graph structures as its gene\\nstructure, which consists of plural nodes. Up till now, mostGNP and GNP based algorithms evolve the nodes with ﬁxed\\nnumber in order to obtain the optimal combination of these\\nnodes. So, predeﬁned number of nodes is necessary, whichneeds prior knowledge of the problems or needs to try different\\nsizes of GNP. But, when the problem is difﬁcult, it is impossi-\\nble to get enough prior knowledge or try many different sizesof GNP. Therefore, a different GNP – Variable Size Genetic\\nNetwork Programming (GNPvs) with Binomial Distribution\\n973\\n978-1-4244-7835-4/11/$26.00 ©2011 IEEE',\n",
       " \"GeneticNetwork Programming forArtificialStock\\nMarket\\nYangChengSunShixin\\nSchoolofComputerScienceandEngineering\\nUniversityofElectronicScienceandTechnologyofChina\\nChengdu,P.R.China\\nMr.Yangcheng Gmail.com\\nAbstract-Combined withtheideaofAustrianschoolof\\neconomics,thispaperproposesanewmulti-agent modelfor\\nartificialstockmarketbasedonGeneticNetwork\\nProgramming. ItfocusesonapplyingtheGNPapproachto\\nemulateinvestment behaviorofagentsandevolvetheir\\ntradingrules.Simultaneously, thismodelenhancesthe\\nheterogeneity ofagents,andsearchesforanoptimal\\ncombination ofparametervaluesbasedonGA.Simulation\\nresultsconfirmtheeffectiveness ofthisGNP-ASM model\\nthroughcomparison withempiricalstatistics.\\nI.INTRODUCTION\\nArtificialStockMarket(ASM)isacomputational\\nprogramsimulatingstockmarketsintherealworld.Ina\\nvirtualmarket,anumberoftraders(artificialintelligent\\nprogramsoragents)makereal-timedecisionswiththeir\\nconstantly-evolving investmentstrategiesbasedonthe\\nvariablestockmarketinformationobserved,suchasstock\\nprice,dividend,tradingvolume,etc.\\nAsamultidisciplinary areaincludingartificialintelligent\\ntechnology,economicsandbionics,thekeyissueofASMis\\nhowtoemulatetrader'sinvestmentbehaviorefficientlyand\\nmakeitasclosetothatintherealworldaspossible.Sofar,\\nvariousagent-basedcomputational intelligentalgorithms\\nhavebeenadoptedinthisfieldincludingtheevolutionary\\ncomputation(EC),theneuralnetwork,thecellularautomata,\\netc.[][2]Thispaperintroduces anewECtechnique,i.e.\\nGeneticNetworkProgramming (GNP).InspiredbyGenetic\\nProgramming (GP),GNPisanevolutionaryalgorithmbased\\nonnetworkarchitecture. Therefore,theartificialstock\\nmarketmodelintroducedinthispaperiscalledaGNP-ASM\\nmodel.\\nThenextsectionbrieflydescribestheideaofASMand\\nthedifferentaspectsofthisGNP-ASMmodel.Section3\\ndetailstheapplicationoftheinstitutional GNPtoASM,\\nincludingthebasicmodelstructureandevolutionary\\nalgorithm.Section4showstheresultsofthesimulations.\\nConclusions andrecommendations forfurtherstudyare\\npresentedinthelastsection.\\nII.ARTIFICIALSTOCKMARKETMODEL\\nGNP-ASMhasasimilarbasicframeworkwiththeearly\\nartificialstockmarketmodelbySantaFeInstitute(SFI--ASM[3]).Technically,therearetwomajorcomponentsof\\nthismodel,namely,themarketenvironment andthe\\nadaptivetraders.ThemoduleofmarketenvironmentXieZhilong\\nSchoolofElectronicalCommerce\\nSouthwestern UniversityofFinanceandEconomics\\nChengdu,P.R.China\\nxiezhilonghotmail.com\\nmaintainsthestatusmessagesofthestockmarketwholly,\\nincludingstockprice,dividend,interestrate,taxrate,trading\\nvolume,etc.Ateachtimestepofsimulation,itprovides\\nthoseinformationcodestoalltraders,aggregatessupplies\\nanddemands,matchesanewprice,andexecutesorders.The\\ntradermoduleisanevolvingpopulation,includingwealth\\nstatusandtradingstrategies.Eachtraderisanintelligent\\nagentwhoattemptstomaximizehiswealthbyselling,\\nbuyingorholdingstocksbasedonasetofrules(trading\\nstrategies)thatspecifywhattodowhencertainmarket\\nconditionsaremet.\\nOnemajorrestrictionofSFI-ASMisthehomogeneity of\\nagents.InSFI-ASM,allagentsareperfectrationalinvestors\\nwhosharesameutilityfunctionandobtainsameinformation.\\nTheyareidenticalexceptthateachagentindividuallyforms\\nhistradingrulesovertimethroughaninductivelearning\\nprocess.However,inthelaterrunsofsimulation,theagents\\nconvergetoequilibriumgradually,inwhichpricefollows\\nfundamental value,volumeislow,andthereareno\\nsignificantanomalies,suchasbubblesorcrashes.Theagents\\nbecomerelativelyhomogeneous, usingonlyafewsimple\\nrules.\\nFortheaforementioned reason,someideasfrom\\nAustrianschoolofeconomics41havebeenadoptedto\\nenhanceheterogeneity ofagentsinGNP-ASMmodel.In\\ncontrasttoRationalExpectations (RE)theoryofthe\\nconventional economics,Austrianschoolofeconomics\\nthinksthatagentslackofcompleteinformation, lackof\\nperfectrationality,andlackofcommonexpectations. For\\nexample,theiraims,theirwealthstatusandtheirwaysof\\nevaluationarealldifferent,andthemarketinformationis\\ndispersive.Withthesefactorstakenintoaccount,uncertainty\\nisintroducedintotheartificialmarketandmakesita\\ncomplicatedsystembetweenstaticstateandchaoticstate.\\nInSFI-ASM,agentspredictthefuturemarketpriceby\\ntradingrules,andthencalculatethequantityofholdingby\\nutilityfunction.However,whetherutilityfunctionisvalid\\nandwhetheritcanbemeasuredisstilldisputable.Moreover,\\nitdoesnotseemrealisticforallagentstosharethesame\\nutilityfunction.InGNP-ASM,thestepofpricepredictionis\\nskippedandthusnoutilityfunctionisadopted.Anumberof\\nrulesareemployedtodetermineappropriateactionand\\nquantityaccordingtoparticularmarketenvironment(market\\nstatusmessagecodes).Herethequantitydenotesthe\\nproportionofdealingwhichrepresentsthewealthstatusof\\n0-7803-9584-0/06/$20.00(2006 IEEE. 2079\"]"
      ]
     },
     "execution_count": 72,
     "metadata": {},
     "output_type": "execute_result"
    }
   ],
   "source": [
    "data[0:5]"
   ]
  },
  {
   "attachments": {},
   "cell_type": "markdown",
   "metadata": {},
   "source": [
    "## Training\n",
    "\n",
    "We can change the embedding model to any other models from the sentence-transformers here:\n",
    "\n",
    "https://www.sbert.net/docs/sentence_transformer/pretrained_models.html\n",
    "\n"
   ]
  },
  {
   "cell_type": "code",
   "execution_count": 73,
   "metadata": {},
   "outputs": [
    {
     "name": "stderr",
     "output_type": "stream",
     "text": [
      "2025-02-23 21:33:34,648 - BERTopic - Embedding - Transforming documents to embeddings.\n",
      "Batches: 100%|██████████| 2/2 [00:02<00:00,  1.14s/it]\n",
      "2025-02-23 21:33:38,441 - BERTopic - Embedding - Completed ✓\n",
      "2025-02-23 21:33:38,442 - BERTopic - Dimensionality - Fitting the dimensionality reduction algorithm\n",
      "2025-02-23 21:33:38,549 - BERTopic - Dimensionality - Completed ✓\n",
      "2025-02-23 21:33:38,550 - BERTopic - Cluster - Start clustering the reduced embeddings\n",
      "2025-02-23 21:33:38,562 - BERTopic - Cluster - Completed ✓\n",
      "2025-02-23 21:33:38,568 - BERTopic - Representation - Extracting topics from clusters using representation models.\n",
      "2025-02-23 21:33:40,244 - BERTopic - Representation - Completed ✓\n"
     ]
    }
   ],
   "source": [
    "# Step 1 - Extract embeddings\n",
    "embedding_model = \"all-MiniLM-L6-v2\" # all-mpnet-base-v2\n",
    "# Step 2 - Reduce dimensionality\n",
    "umap_model = UMAP(n_neighbors=15, n_components=5, min_dist=0.0, metric='cosine')\n",
    "# Step 3 - Cluster reduced embeddings\n",
    "hdbscan_model = HDBSCAN(min_cluster_size=3, metric='euclidean', cluster_selection_method='eom', prediction_data=True)\n",
    "# Step 4 - Tokenize topics\n",
    "vectorizer_model = CountVectorizer(stop_words=\"english\")\n",
    "# Step 5 - Create topic representation\n",
    "ctfidf_model = bt.vectorizers.ClassTfidfTransformer()\n",
    "# Step 6 - (Optional) Fine-tune topic representations with \n",
    "# a `bertopic.representation` model\n",
    "representation_model = bt.representation.KeyBERTInspired()\n",
    "\n",
    "# All steps together\n",
    "topic_model = bt.BERTopic(\n",
    "  embedding_model=embedding_model,          # Step 1 - Extract embeddings\n",
    "  umap_model=umap_model,                    # Step 2 - Reduce dimensionality\n",
    "  hdbscan_model=hdbscan_model,              # Step 3 - Cluster reduced embeddings\n",
    "  vectorizer_model=vectorizer_model,        # Step 4 - Tokenize topics\n",
    "  ctfidf_model=ctfidf_model,                # Step 5 - Extract topic words\n",
    "  representation_model=representation_model, # Step 6 - (Optional) Fine-tune topic representations\n",
    "  verbose=True,\n",
    "  language=\"english\"\n",
    ")\n",
    "\n",
    "topics, probs = topic_model.fit_transform(data)"
   ]
  },
  {
   "cell_type": "code",
   "execution_count": 74,
   "metadata": {},
   "outputs": [
    {
     "data": {
      "text/html": [
       "<div>\n",
       "<style scoped>\n",
       "    .dataframe tbody tr th:only-of-type {\n",
       "        vertical-align: middle;\n",
       "    }\n",
       "\n",
       "    .dataframe tbody tr th {\n",
       "        vertical-align: top;\n",
       "    }\n",
       "\n",
       "    .dataframe thead th {\n",
       "        text-align: right;\n",
       "    }\n",
       "</style>\n",
       "<table border=\"1\" class=\"dataframe\">\n",
       "  <thead>\n",
       "    <tr style=\"text-align: right;\">\n",
       "      <th></th>\n",
       "      <th>Topic</th>\n",
       "      <th>Count</th>\n",
       "      <th>Name</th>\n",
       "      <th>Representation</th>\n",
       "      <th>Representative_Docs</th>\n",
       "    </tr>\n",
       "  </thead>\n",
       "  <tbody>\n",
       "    <tr>\n",
       "      <th>0</th>\n",
       "      <td>-1</td>\n",
       "      <td>8</td>\n",
       "      <td>-1_algorithms_metaheuristic_classification_alg...</td>\n",
       "      <td>[algorithms, metaheuristic, classification, al...</td>\n",
       "      <td>[Data Mining using Genetic Network Programming...</td>\n",
       "    </tr>\n",
       "    <tr>\n",
       "      <th>1</th>\n",
       "      <td>0</td>\n",
       "      <td>17</td>\n",
       "      <td>0_optimization_gnp_portfolio_stocks</td>\n",
       "      <td>[optimization, gnp, portfolio, stocks, genetic...</td>\n",
       "      <td>[A model of portfolio optimization using time ...</td>\n",
       "    </tr>\n",
       "    <tr>\n",
       "      <th>2</th>\n",
       "      <td>1</td>\n",
       "      <td>14</td>\n",
       "      <td>1_genetic_evolutionary_gnp_evolve</td>\n",
       "      <td>[genetic, evolutionary, gnp, evolve, nodes, gn...</td>\n",
       "      <td>[IEEJ TRANSACTIONS ON ELECTRICAL AND ELECTRONI...</td>\n",
       "    </tr>\n",
       "    <tr>\n",
       "      <th>3</th>\n",
       "      <td>2</td>\n",
       "      <td>10</td>\n",
       "      <td>2_markets_market_finance_trading</td>\n",
       "      <td>[markets, market, finance, trading, economics,...</td>\n",
       "      <td>[PHYSICA ELSEVIER Physica A 263 (1999) 477-487...</td>\n",
       "    </tr>\n",
       "    <tr>\n",
       "      <th>4</th>\n",
       "      <td>3</td>\n",
       "      <td>5</td>\n",
       "      <td>3_fractals_fractal_evolving_algorithms</td>\n",
       "      <td>[fractals, fractal, evolving, algorithms, lind...</td>\n",
       "      <td>[Computers &amp; Graphics 25 (2001) 1041–1048\\nEvo...</td>\n",
       "    </tr>\n",
       "    <tr>\n",
       "      <th>5</th>\n",
       "      <td>4</td>\n",
       "      <td>3</td>\n",
       "      <td>4_metagraph_adjacency_systematic_research</td>\n",
       "      <td>[metagraph, adjacency, systematic, research, s...</td>\n",
       "      <td>[See discussions, st ats, and author pr ofiles...</td>\n",
       "    </tr>\n",
       "  </tbody>\n",
       "</table>\n",
       "</div>"
      ],
      "text/plain": [
       "   Topic  Count                                               Name   \n",
       "0     -1      8  -1_algorithms_metaheuristic_classification_alg...  \\\n",
       "1      0     17                0_optimization_gnp_portfolio_stocks   \n",
       "2      1     14                  1_genetic_evolutionary_gnp_evolve   \n",
       "3      2     10                   2_markets_market_finance_trading   \n",
       "4      3      5             3_fractals_fractal_evolving_algorithms   \n",
       "5      4      3          4_metagraph_adjacency_systematic_research   \n",
       "\n",
       "                                      Representation   \n",
       "0  [algorithms, metaheuristic, classification, al...  \\\n",
       "1  [optimization, gnp, portfolio, stocks, genetic...   \n",
       "2  [genetic, evolutionary, gnp, evolve, nodes, gn...   \n",
       "3  [markets, market, finance, trading, economics,...   \n",
       "4  [fractals, fractal, evolving, algorithms, lind...   \n",
       "5  [metagraph, adjacency, systematic, research, s...   \n",
       "\n",
       "                                 Representative_Docs  \n",
       "0  [Data Mining using Genetic Network Programming...  \n",
       "1  [A model of portfolio optimization using time ...  \n",
       "2  [IEEJ TRANSACTIONS ON ELECTRICAL AND ELECTRONI...  \n",
       "3  [PHYSICA ELSEVIER Physica A 263 (1999) 477-487...  \n",
       "4  [Computers & Graphics 25 (2001) 1041–1048\\nEvo...  \n",
       "5  [See discussions, st ats, and author pr ofiles...  "
      ]
     },
     "execution_count": 74,
     "metadata": {},
     "output_type": "execute_result"
    }
   ],
   "source": [
    "freq = topic_model.get_topic_info() \n",
    "freq.head(20)"
   ]
  },
  {
   "attachments": {},
   "cell_type": "markdown",
   "metadata": {},
   "source": [
    "HINT: -1 refers to all outliers and should typically be ignored."
   ]
  },
  {
   "cell_type": "code",
   "execution_count": null,
   "metadata": {},
   "outputs": [],
   "source": []
  },
  {
   "cell_type": "code",
   "execution_count": 75,
   "metadata": {},
   "outputs": [
    {
     "data": {
      "text/plain": [
       "False"
      ]
     },
     "execution_count": 75,
     "metadata": {},
     "output_type": "execute_result"
    }
   ],
   "source": [
    "topic_model.get_topic(5)  # Select the most frequent topic"
   ]
  },
  {
   "cell_type": "code",
   "execution_count": 76,
   "metadata": {},
   "outputs": [
    {
     "data": {
      "application/vnd.plotly.v1+json": {
       "config": {
        "plotlyServerURL": "https://plot.ly"
       },
       "data": [
        {
         "customdata": [
          [
           0,
           "optimization | gnp | portfolio | stocks | genetic",
           17
          ],
          [
           1,
           "genetic | evolutionary | gnp | evolve | nodes",
           14
          ],
          [
           2,
           "markets | market | finance | trading | economics",
           10
          ],
          [
           3,
           "fractals | fractal | evolving | algorithms | lindenmayer",
           5
          ],
          [
           4,
           "metagraph | adjacency | systematic | research | software",
           3
          ]
         ],
         "hovertemplate": "<b>Topic %{customdata[0]}</b><br>%{customdata[1]}<br>Size: %{customdata[2]}",
         "legendgroup": "",
         "marker": {
          "color": "#B0BEC5",
          "line": {
           "color": "DarkSlateGrey",
           "width": 2
          },
          "size": [
           17,
           14,
           10,
           5,
           3
          ],
          "sizemode": "area",
          "sizeref": 0.010625,
          "symbol": "circle"
         },
         "mode": "markers",
         "name": "",
         "orientation": "v",
         "showlegend": false,
         "type": "scatter",
         "x": [
          15.735939979553223,
          16.334665298461914,
          15.034560203552246,
          17.106016159057617,
          15.972365379333496
         ],
         "xaxis": "x",
         "y": [
          5.97733736038208,
          6.77224588394165,
          6.0317606925964355,
          6.778457164764404,
          7.503754138946533
         ],
         "yaxis": "y"
        }
       ],
       "layout": {
        "annotations": [
         {
          "showarrow": false,
          "text": "D1",
          "x": 12.77937617301941,
          "y": 6.8550270080566404,
          "yshift": 10
         },
         {
          "showarrow": false,
          "text": "D2",
          "x": 16.225647377967835,
          "xshift": 10,
          "y": 8.629317259788513
         }
        ],
        "height": 650,
        "hoverlabel": {
         "bgcolor": "white",
         "font": {
          "family": "Rockwell",
          "size": 16
         }
        },
        "legend": {
         "itemsizing": "constant",
         "tracegroupgap": 0
        },
        "margin": {
         "t": 60
        },
        "shapes": [
         {
          "line": {
           "color": "#CFD8DC",
           "width": 2
          },
          "type": "line",
          "x0": 16.225647377967835,
          "x1": 16.225647377967835,
          "y0": 5.080736756324768,
          "y1": 8.629317259788513
         },
         {
          "line": {
           "color": "#9E9E9E",
           "width": 2
          },
          "type": "line",
          "x0": 12.77937617301941,
          "x1": 19.67191858291626,
          "y0": 6.8550270080566404,
          "y1": 6.8550270080566404
         }
        ],
        "sliders": [
         {
          "active": 0,
          "pad": {
           "t": 50
          },
          "steps": [
           {
            "args": [
             {
              "marker.color": [
               [
                "red",
                "#B0BEC5",
                "#B0BEC5",
                "#B0BEC5",
                "#B0BEC5"
               ]
              ]
             }
            ],
            "label": "Topic 0",
            "method": "update"
           },
           {
            "args": [
             {
              "marker.color": [
               [
                "#B0BEC5",
                "red",
                "#B0BEC5",
                "#B0BEC5",
                "#B0BEC5"
               ]
              ]
             }
            ],
            "label": "Topic 1",
            "method": "update"
           },
           {
            "args": [
             {
              "marker.color": [
               [
                "#B0BEC5",
                "#B0BEC5",
                "red",
                "#B0BEC5",
                "#B0BEC5"
               ]
              ]
             }
            ],
            "label": "Topic 2",
            "method": "update"
           },
           {
            "args": [
             {
              "marker.color": [
               [
                "#B0BEC5",
                "#B0BEC5",
                "#B0BEC5",
                "red",
                "#B0BEC5"
               ]
              ]
             }
            ],
            "label": "Topic 3",
            "method": "update"
           },
           {
            "args": [
             {
              "marker.color": [
               [
                "#B0BEC5",
                "#B0BEC5",
                "#B0BEC5",
                "#B0BEC5",
                "red"
               ]
              ]
             }
            ],
            "label": "Topic 4",
            "method": "update"
           }
          ]
         }
        ],
        "template": {
         "data": {
          "bar": [
           {
            "error_x": {
             "color": "rgb(36,36,36)"
            },
            "error_y": {
             "color": "rgb(36,36,36)"
            },
            "marker": {
             "line": {
              "color": "white",
              "width": 0.5
             },
             "pattern": {
              "fillmode": "overlay",
              "size": 10,
              "solidity": 0.2
             }
            },
            "type": "bar"
           }
          ],
          "barpolar": [
           {
            "marker": {
             "line": {
              "color": "white",
              "width": 0.5
             },
             "pattern": {
              "fillmode": "overlay",
              "size": 10,
              "solidity": 0.2
             }
            },
            "type": "barpolar"
           }
          ],
          "carpet": [
           {
            "aaxis": {
             "endlinecolor": "rgb(36,36,36)",
             "gridcolor": "white",
             "linecolor": "white",
             "minorgridcolor": "white",
             "startlinecolor": "rgb(36,36,36)"
            },
            "baxis": {
             "endlinecolor": "rgb(36,36,36)",
             "gridcolor": "white",
             "linecolor": "white",
             "minorgridcolor": "white",
             "startlinecolor": "rgb(36,36,36)"
            },
            "type": "carpet"
           }
          ],
          "choropleth": [
           {
            "colorbar": {
             "outlinewidth": 1,
             "tickcolor": "rgb(36,36,36)",
             "ticks": "outside"
            },
            "type": "choropleth"
           }
          ],
          "contour": [
           {
            "colorbar": {
             "outlinewidth": 1,
             "tickcolor": "rgb(36,36,36)",
             "ticks": "outside"
            },
            "colorscale": [
             [
              0,
              "#440154"
             ],
             [
              0.1111111111111111,
              "#482878"
             ],
             [
              0.2222222222222222,
              "#3e4989"
             ],
             [
              0.3333333333333333,
              "#31688e"
             ],
             [
              0.4444444444444444,
              "#26828e"
             ],
             [
              0.5555555555555556,
              "#1f9e89"
             ],
             [
              0.6666666666666666,
              "#35b779"
             ],
             [
              0.7777777777777778,
              "#6ece58"
             ],
             [
              0.8888888888888888,
              "#b5de2b"
             ],
             [
              1,
              "#fde725"
             ]
            ],
            "type": "contour"
           }
          ],
          "contourcarpet": [
           {
            "colorbar": {
             "outlinewidth": 1,
             "tickcolor": "rgb(36,36,36)",
             "ticks": "outside"
            },
            "type": "contourcarpet"
           }
          ],
          "heatmap": [
           {
            "colorbar": {
             "outlinewidth": 1,
             "tickcolor": "rgb(36,36,36)",
             "ticks": "outside"
            },
            "colorscale": [
             [
              0,
              "#440154"
             ],
             [
              0.1111111111111111,
              "#482878"
             ],
             [
              0.2222222222222222,
              "#3e4989"
             ],
             [
              0.3333333333333333,
              "#31688e"
             ],
             [
              0.4444444444444444,
              "#26828e"
             ],
             [
              0.5555555555555556,
              "#1f9e89"
             ],
             [
              0.6666666666666666,
              "#35b779"
             ],
             [
              0.7777777777777778,
              "#6ece58"
             ],
             [
              0.8888888888888888,
              "#b5de2b"
             ],
             [
              1,
              "#fde725"
             ]
            ],
            "type": "heatmap"
           }
          ],
          "heatmapgl": [
           {
            "colorbar": {
             "outlinewidth": 1,
             "tickcolor": "rgb(36,36,36)",
             "ticks": "outside"
            },
            "colorscale": [
             [
              0,
              "#440154"
             ],
             [
              0.1111111111111111,
              "#482878"
             ],
             [
              0.2222222222222222,
              "#3e4989"
             ],
             [
              0.3333333333333333,
              "#31688e"
             ],
             [
              0.4444444444444444,
              "#26828e"
             ],
             [
              0.5555555555555556,
              "#1f9e89"
             ],
             [
              0.6666666666666666,
              "#35b779"
             ],
             [
              0.7777777777777778,
              "#6ece58"
             ],
             [
              0.8888888888888888,
              "#b5de2b"
             ],
             [
              1,
              "#fde725"
             ]
            ],
            "type": "heatmapgl"
           }
          ],
          "histogram": [
           {
            "marker": {
             "line": {
              "color": "white",
              "width": 0.6
             }
            },
            "type": "histogram"
           }
          ],
          "histogram2d": [
           {
            "colorbar": {
             "outlinewidth": 1,
             "tickcolor": "rgb(36,36,36)",
             "ticks": "outside"
            },
            "colorscale": [
             [
              0,
              "#440154"
             ],
             [
              0.1111111111111111,
              "#482878"
             ],
             [
              0.2222222222222222,
              "#3e4989"
             ],
             [
              0.3333333333333333,
              "#31688e"
             ],
             [
              0.4444444444444444,
              "#26828e"
             ],
             [
              0.5555555555555556,
              "#1f9e89"
             ],
             [
              0.6666666666666666,
              "#35b779"
             ],
             [
              0.7777777777777778,
              "#6ece58"
             ],
             [
              0.8888888888888888,
              "#b5de2b"
             ],
             [
              1,
              "#fde725"
             ]
            ],
            "type": "histogram2d"
           }
          ],
          "histogram2dcontour": [
           {
            "colorbar": {
             "outlinewidth": 1,
             "tickcolor": "rgb(36,36,36)",
             "ticks": "outside"
            },
            "colorscale": [
             [
              0,
              "#440154"
             ],
             [
              0.1111111111111111,
              "#482878"
             ],
             [
              0.2222222222222222,
              "#3e4989"
             ],
             [
              0.3333333333333333,
              "#31688e"
             ],
             [
              0.4444444444444444,
              "#26828e"
             ],
             [
              0.5555555555555556,
              "#1f9e89"
             ],
             [
              0.6666666666666666,
              "#35b779"
             ],
             [
              0.7777777777777778,
              "#6ece58"
             ],
             [
              0.8888888888888888,
              "#b5de2b"
             ],
             [
              1,
              "#fde725"
             ]
            ],
            "type": "histogram2dcontour"
           }
          ],
          "mesh3d": [
           {
            "colorbar": {
             "outlinewidth": 1,
             "tickcolor": "rgb(36,36,36)",
             "ticks": "outside"
            },
            "type": "mesh3d"
           }
          ],
          "parcoords": [
           {
            "line": {
             "colorbar": {
              "outlinewidth": 1,
              "tickcolor": "rgb(36,36,36)",
              "ticks": "outside"
             }
            },
            "type": "parcoords"
           }
          ],
          "pie": [
           {
            "automargin": true,
            "type": "pie"
           }
          ],
          "scatter": [
           {
            "fillpattern": {
             "fillmode": "overlay",
             "size": 10,
             "solidity": 0.2
            },
            "type": "scatter"
           }
          ],
          "scatter3d": [
           {
            "line": {
             "colorbar": {
              "outlinewidth": 1,
              "tickcolor": "rgb(36,36,36)",
              "ticks": "outside"
             }
            },
            "marker": {
             "colorbar": {
              "outlinewidth": 1,
              "tickcolor": "rgb(36,36,36)",
              "ticks": "outside"
             }
            },
            "type": "scatter3d"
           }
          ],
          "scattercarpet": [
           {
            "marker": {
             "colorbar": {
              "outlinewidth": 1,
              "tickcolor": "rgb(36,36,36)",
              "ticks": "outside"
             }
            },
            "type": "scattercarpet"
           }
          ],
          "scattergeo": [
           {
            "marker": {
             "colorbar": {
              "outlinewidth": 1,
              "tickcolor": "rgb(36,36,36)",
              "ticks": "outside"
             }
            },
            "type": "scattergeo"
           }
          ],
          "scattergl": [
           {
            "marker": {
             "colorbar": {
              "outlinewidth": 1,
              "tickcolor": "rgb(36,36,36)",
              "ticks": "outside"
             }
            },
            "type": "scattergl"
           }
          ],
          "scattermapbox": [
           {
            "marker": {
             "colorbar": {
              "outlinewidth": 1,
              "tickcolor": "rgb(36,36,36)",
              "ticks": "outside"
             }
            },
            "type": "scattermapbox"
           }
          ],
          "scatterpolar": [
           {
            "marker": {
             "colorbar": {
              "outlinewidth": 1,
              "tickcolor": "rgb(36,36,36)",
              "ticks": "outside"
             }
            },
            "type": "scatterpolar"
           }
          ],
          "scatterpolargl": [
           {
            "marker": {
             "colorbar": {
              "outlinewidth": 1,
              "tickcolor": "rgb(36,36,36)",
              "ticks": "outside"
             }
            },
            "type": "scatterpolargl"
           }
          ],
          "scatterternary": [
           {
            "marker": {
             "colorbar": {
              "outlinewidth": 1,
              "tickcolor": "rgb(36,36,36)",
              "ticks": "outside"
             }
            },
            "type": "scatterternary"
           }
          ],
          "surface": [
           {
            "colorbar": {
             "outlinewidth": 1,
             "tickcolor": "rgb(36,36,36)",
             "ticks": "outside"
            },
            "colorscale": [
             [
              0,
              "#440154"
             ],
             [
              0.1111111111111111,
              "#482878"
             ],
             [
              0.2222222222222222,
              "#3e4989"
             ],
             [
              0.3333333333333333,
              "#31688e"
             ],
             [
              0.4444444444444444,
              "#26828e"
             ],
             [
              0.5555555555555556,
              "#1f9e89"
             ],
             [
              0.6666666666666666,
              "#35b779"
             ],
             [
              0.7777777777777778,
              "#6ece58"
             ],
             [
              0.8888888888888888,
              "#b5de2b"
             ],
             [
              1,
              "#fde725"
             ]
            ],
            "type": "surface"
           }
          ],
          "table": [
           {
            "cells": {
             "fill": {
              "color": "rgb(237,237,237)"
             },
             "line": {
              "color": "white"
             }
            },
            "header": {
             "fill": {
              "color": "rgb(217,217,217)"
             },
             "line": {
              "color": "white"
             }
            },
            "type": "table"
           }
          ]
         },
         "layout": {
          "annotationdefaults": {
           "arrowhead": 0,
           "arrowwidth": 1
          },
          "autotypenumbers": "strict",
          "coloraxis": {
           "colorbar": {
            "outlinewidth": 1,
            "tickcolor": "rgb(36,36,36)",
            "ticks": "outside"
           }
          },
          "colorscale": {
           "diverging": [
            [
             0,
             "rgb(103,0,31)"
            ],
            [
             0.1,
             "rgb(178,24,43)"
            ],
            [
             0.2,
             "rgb(214,96,77)"
            ],
            [
             0.3,
             "rgb(244,165,130)"
            ],
            [
             0.4,
             "rgb(253,219,199)"
            ],
            [
             0.5,
             "rgb(247,247,247)"
            ],
            [
             0.6,
             "rgb(209,229,240)"
            ],
            [
             0.7,
             "rgb(146,197,222)"
            ],
            [
             0.8,
             "rgb(67,147,195)"
            ],
            [
             0.9,
             "rgb(33,102,172)"
            ],
            [
             1,
             "rgb(5,48,97)"
            ]
           ],
           "sequential": [
            [
             0,
             "#440154"
            ],
            [
             0.1111111111111111,
             "#482878"
            ],
            [
             0.2222222222222222,
             "#3e4989"
            ],
            [
             0.3333333333333333,
             "#31688e"
            ],
            [
             0.4444444444444444,
             "#26828e"
            ],
            [
             0.5555555555555556,
             "#1f9e89"
            ],
            [
             0.6666666666666666,
             "#35b779"
            ],
            [
             0.7777777777777778,
             "#6ece58"
            ],
            [
             0.8888888888888888,
             "#b5de2b"
            ],
            [
             1,
             "#fde725"
            ]
           ],
           "sequentialminus": [
            [
             0,
             "#440154"
            ],
            [
             0.1111111111111111,
             "#482878"
            ],
            [
             0.2222222222222222,
             "#3e4989"
            ],
            [
             0.3333333333333333,
             "#31688e"
            ],
            [
             0.4444444444444444,
             "#26828e"
            ],
            [
             0.5555555555555556,
             "#1f9e89"
            ],
            [
             0.6666666666666666,
             "#35b779"
            ],
            [
             0.7777777777777778,
             "#6ece58"
            ],
            [
             0.8888888888888888,
             "#b5de2b"
            ],
            [
             1,
             "#fde725"
            ]
           ]
          },
          "colorway": [
           "#1F77B4",
           "#FF7F0E",
           "#2CA02C",
           "#D62728",
           "#9467BD",
           "#8C564B",
           "#E377C2",
           "#7F7F7F",
           "#BCBD22",
           "#17BECF"
          ],
          "font": {
           "color": "rgb(36,36,36)"
          },
          "geo": {
           "bgcolor": "white",
           "lakecolor": "white",
           "landcolor": "white",
           "showlakes": true,
           "showland": true,
           "subunitcolor": "white"
          },
          "hoverlabel": {
           "align": "left"
          },
          "hovermode": "closest",
          "mapbox": {
           "style": "light"
          },
          "paper_bgcolor": "white",
          "plot_bgcolor": "white",
          "polar": {
           "angularaxis": {
            "gridcolor": "rgb(232,232,232)",
            "linecolor": "rgb(36,36,36)",
            "showgrid": false,
            "showline": true,
            "ticks": "outside"
           },
           "bgcolor": "white",
           "radialaxis": {
            "gridcolor": "rgb(232,232,232)",
            "linecolor": "rgb(36,36,36)",
            "showgrid": false,
            "showline": true,
            "ticks": "outside"
           }
          },
          "scene": {
           "xaxis": {
            "backgroundcolor": "white",
            "gridcolor": "rgb(232,232,232)",
            "gridwidth": 2,
            "linecolor": "rgb(36,36,36)",
            "showbackground": true,
            "showgrid": false,
            "showline": true,
            "ticks": "outside",
            "zeroline": false,
            "zerolinecolor": "rgb(36,36,36)"
           },
           "yaxis": {
            "backgroundcolor": "white",
            "gridcolor": "rgb(232,232,232)",
            "gridwidth": 2,
            "linecolor": "rgb(36,36,36)",
            "showbackground": true,
            "showgrid": false,
            "showline": true,
            "ticks": "outside",
            "zeroline": false,
            "zerolinecolor": "rgb(36,36,36)"
           },
           "zaxis": {
            "backgroundcolor": "white",
            "gridcolor": "rgb(232,232,232)",
            "gridwidth": 2,
            "linecolor": "rgb(36,36,36)",
            "showbackground": true,
            "showgrid": false,
            "showline": true,
            "ticks": "outside",
            "zeroline": false,
            "zerolinecolor": "rgb(36,36,36)"
           }
          },
          "shapedefaults": {
           "fillcolor": "black",
           "line": {
            "width": 0
           },
           "opacity": 0.3
          },
          "ternary": {
           "aaxis": {
            "gridcolor": "rgb(232,232,232)",
            "linecolor": "rgb(36,36,36)",
            "showgrid": false,
            "showline": true,
            "ticks": "outside"
           },
           "baxis": {
            "gridcolor": "rgb(232,232,232)",
            "linecolor": "rgb(36,36,36)",
            "showgrid": false,
            "showline": true,
            "ticks": "outside"
           },
           "bgcolor": "white",
           "caxis": {
            "gridcolor": "rgb(232,232,232)",
            "linecolor": "rgb(36,36,36)",
            "showgrid": false,
            "showline": true,
            "ticks": "outside"
           }
          },
          "title": {
           "x": 0.05
          },
          "xaxis": {
           "automargin": true,
           "gridcolor": "rgb(232,232,232)",
           "linecolor": "rgb(36,36,36)",
           "showgrid": false,
           "showline": true,
           "ticks": "outside",
           "title": {
            "standoff": 15
           },
           "zeroline": false,
           "zerolinecolor": "rgb(36,36,36)"
          },
          "yaxis": {
           "automargin": true,
           "gridcolor": "rgb(232,232,232)",
           "linecolor": "rgb(36,36,36)",
           "showgrid": false,
           "showline": true,
           "ticks": "outside",
           "title": {
            "standoff": 15
           },
           "zeroline": false,
           "zerolinecolor": "rgb(36,36,36)"
          }
         }
        },
        "title": {
         "font": {
          "color": "Black",
          "size": 22
         },
         "text": "<b>Intertopic Distance Map</b>",
         "x": 0.5,
         "xanchor": "center",
         "y": 0.95,
         "yanchor": "top"
        },
        "width": 650,
        "xaxis": {
         "anchor": "y",
         "domain": [
          0,
          1
         ],
         "range": [
          12.77937617301941,
          19.67191858291626
         ],
         "title": {
          "text": ""
         },
         "visible": false
        },
        "yaxis": {
         "anchor": "x",
         "domain": [
          0,
          1
         ],
         "range": [
          5.080736756324768,
          8.629317259788513
         ],
         "title": {
          "text": ""
         },
         "visible": false
        }
       }
      }
     },
     "metadata": {},
     "output_type": "display_data"
    }
   ],
   "source": [
    "topic_model.visualize_topics()"
   ]
  }
 ],
 "metadata": {
  "kernelspec": {
   "display_name": "Python 3",
   "language": "python",
   "name": "python3"
  },
  "language_info": {
   "codemirror_mode": {
    "name": "ipython",
    "version": 3
   },
   "file_extension": ".py",
   "mimetype": "text/x-python",
   "name": "python",
   "nbconvert_exporter": "python",
   "pygments_lexer": "ipython3",
   "version": "3.11.2"
  },
  "orig_nbformat": 4
 },
 "nbformat": 4,
 "nbformat_minor": 2
}
